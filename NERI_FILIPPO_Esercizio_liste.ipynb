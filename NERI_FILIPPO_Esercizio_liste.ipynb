{
  "nbformat": 4,
  "nbformat_minor": 0,
  "metadata": {
    "colab": {
      "provenance": []
    },
    "kernelspec": {
      "name": "python3",
      "display_name": "Python 3"
    },
    "language_info": {
      "name": "python"
    }
  },
  "cells": [
    {
      "cell_type": "markdown",
      "source": [
        "#Esercizio 1"
      ],
      "metadata": {
        "id": "F1InHJmbdM6X"
      }
    },
    {
      "cell_type": "markdown",
      "source": [
        "Cercare su internet le informazioni riguardanti le statistiche sui casi di COVID nelle regioni italiane (casi totali) e memorizzarli in opportune struttture dati. Scrivere poi le istruzioni per avere le seguenti informazioni:\n",
        "\n"
      ],
      "metadata": {
        "id": "QhSL9Ve9bdnO"
      }
    },
    {
      "cell_type": "markdown",
      "source": [
        "1. il numero totale di casi di COVID in ITalia"
      ],
      "metadata": {
        "id": "xkMF7u4fcPHU"
      }
    },
    {
      "cell_type": "code",
      "source": [
        "regioni    = [\"Abruzzo\", \"Basilicata\", \"Calabria\", \"Campania\", \"Emilia-Romagna\", \"Friuli Venezia Giulia\", \"Lazio\", \"Liguria\", \"Lombardia\", \"Marche\", \"Molise\", \"Piemonte\", \"Puglia\", \"Sardegna\", \"Sicilia\", \"Toscana\", \"Trentino-Alto Adige\", \"Umbria\", \"Valle d'Aosta\", \"Veneto\"]\n",
        "casiRegioni = [571000,    186000,       567000,     2260000,    1900000,          506000,                  2110000, 587000,    3660000,     636000,   91703,    1530000,    1490000,  456000,     1660000,   1430000,   272000,                387000,   45876,           2330000 ]\n",
        "casiTotali = sum(casiRegioni)\n",
        "print(casiTotali)\n"
      ],
      "metadata": {
        "id": "_FhU3WWPcSc0",
        "colab": {
          "base_uri": "https://localhost:8080/"
        },
        "outputId": "83e02283-b10e-4f7f-a8c1-4bb54cf7a74a"
      },
      "execution_count": null,
      "outputs": [
        {
          "output_type": "stream",
          "name": "stdout",
          "text": [
            "22675579\n"
          ]
        }
      ]
    },
    {
      "cell_type": "markdown",
      "source": [
        "2. il numero medio di casi di COVID in Italia"
      ],
      "metadata": {
        "id": "cEbSqa1FcTQs"
      }
    },
    {
      "cell_type": "code",
      "source": [
        "from statistics import mean\n",
        "\n",
        "medCase = mean(casiRegioni)\n",
        "\n",
        "print(medCase)"
      ],
      "metadata": {
        "id": "g1IbY5N7cW10",
        "colab": {
          "base_uri": "https://localhost:8080/"
        },
        "outputId": "c9795671-a0db-49b3-b07f-79c24e78683f"
      },
      "execution_count": null,
      "outputs": [
        {
          "output_type": "stream",
          "name": "stdout",
          "text": [
            "1133778.95\n"
          ]
        }
      ]
    },
    {
      "cell_type": "markdown",
      "source": [
        "3. le regioni che hanno avuto un numero di casi superiore alla media"
      ],
      "metadata": {
        "id": "RV60Rp2DcXJ1"
      }
    },
    {
      "cell_type": "code",
      "source": [
        "for value in casiRegioni:\n",
        "  if value > medCase:\n",
        "    print(regioni[casiRegioni.index(value)], \" - \", value)"
      ],
      "metadata": {
        "id": "MVte31bQcbva",
        "colab": {
          "base_uri": "https://localhost:8080/"
        },
        "outputId": "3ce3236f-2af6-4e85-8743-d4ddb2c2e9ad"
      },
      "execution_count": null,
      "outputs": [
        {
          "output_type": "stream",
          "name": "stdout",
          "text": [
            "Campania  -  2260000\n",
            "Emilia-Romagna  -  1900000\n",
            "Lazio  -  2110000\n",
            "Lombardia  -  3660000\n",
            "Piemonte  -  1530000\n",
            "Puglia  -  1490000\n",
            "Sicilia  -  1660000\n",
            "Toscana  -  1430000\n",
            "Veneto  -  2330000\n"
          ]
        }
      ]
    },
    {
      "cell_type": "markdown",
      "source": [
        "4. la percentuale di casi di COVID nelle varie regioni rispetto al totale italiano. Caricare questi dati in un'altra lista"
      ],
      "metadata": {
        "id": "qcz6bUGqccXh"
      }
    },
    {
      "cell_type": "code",
      "source": [
        "percentuale = []\n",
        "\n",
        "for value in casiRegioni:\n",
        "  calc = (value / casiTotali) * 100 \n",
        "  print(regioni[casiRegioni.index(value)], \" - \", round(calc,2),\"%\")"
      ],
      "metadata": {
        "id": "wZAeQZUrcpup",
        "colab": {
          "base_uri": "https://localhost:8080/"
        },
        "outputId": "91367f37-fd22-4aff-8a98-e7c5d6ef02db"
      },
      "execution_count": null,
      "outputs": [
        {
          "output_type": "stream",
          "name": "stdout",
          "text": [
            "Abruzzo  -  2.52 %\n",
            "Basilicata  -  0.82 %\n",
            "Calabria  -  2.5 %\n",
            "Campania  -  9.97 %\n",
            "Emilia-Romagna  -  8.38 %\n",
            "Friuli Venezia Giulia  -  2.23 %\n",
            "Lazio  -  9.31 %\n",
            "Liguria  -  2.59 %\n",
            "Lombardia  -  16.14 %\n",
            "Marche  -  2.8 %\n",
            "Molise  -  0.4 %\n",
            "Piemonte  -  6.75 %\n",
            "Puglia  -  6.57 %\n",
            "Sardegna  -  2.01 %\n",
            "Sicilia  -  7.32 %\n",
            "Toscana  -  6.31 %\n",
            "Trentino-Alto Adige  -  1.2 %\n",
            "Umbria  -  1.71 %\n",
            "Valle d'Aosta  -  0.2 %\n",
            "Veneto  -  10.28 %\n"
          ]
        }
      ]
    },
    {
      "cell_type": "markdown",
      "source": [
        "Cercare adesso la popolazione delle varie regioni italiane e caricare i dati in una opportuna struttura dati."
      ],
      "metadata": {
        "id": "NsxW5y1NcqHj"
      }
    },
    {
      "cell_type": "code",
      "source": [
        "popolazioniRegioni = [1269928,   538196,       1835563,    5571931,    4433177,          1195317,                 5709263, 1503902,   9964136,     1485960,  289498,   4241884,    3900822,  1571194,    4780210,   3669191,   1078746,                857019,  122981,          4847242 ]"
      ],
      "metadata": {
        "id": "0ey1FJW4cwtS"
      },
      "execution_count": null,
      "outputs": []
    },
    {
      "cell_type": "markdown",
      "source": [
        "5. trovare, per ogni regione, la percentuale di casi sul totale della popolazione di quella regione: caricare i dati in un'altra lista.\n",
        "Trovare poi la regione con la percentuale maggiore in rapporto a popolazione"
      ],
      "metadata": {
        "id": "O08u1Y_mcxFr"
      }
    },
    {
      "cell_type": "code",
      "source": [
        "percentPop = []\n",
        "\n",
        "for value in casiRegioni:\n",
        "  pop = popolazioniRegioni[casiRegioni.index(value)]\n",
        "  calc = (value / pop) * 100 \n",
        "  percentPop.append(round(calc,2))\n",
        "  print(regioni[casiRegioni.index(value)], \" - \", round(calc,2),\"%\")\n",
        "\n",
        "print(\"Regione Max: \", max(percentPop))\n"
      ],
      "metadata": {
        "colab": {
          "base_uri": "https://localhost:8080/"
        },
        "id": "Q8X5dFjvDFh6",
        "outputId": "6b08ab36-e84d-48a0-e056-39ecf876fbc6"
      },
      "execution_count": null,
      "outputs": [
        {
          "output_type": "stream",
          "name": "stdout",
          "text": [
            "Abruzzo  -  44.96 %\n",
            "Basilicata  -  34.56 %\n",
            "Calabria  -  30.89 %\n",
            "Campania  -  40.56 %\n",
            "Emilia-Romagna  -  42.86 %\n",
            "Friuli Venezia Giulia  -  42.33 %\n",
            "Lazio  -  36.96 %\n",
            "Liguria  -  39.03 %\n",
            "Lombardia  -  36.73 %\n",
            "Marche  -  42.8 %\n",
            "Molise  -  31.68 %\n",
            "Piemonte  -  36.07 %\n",
            "Puglia  -  38.2 %\n",
            "Sardegna  -  29.02 %\n",
            "Sicilia  -  34.73 %\n",
            "Toscana  -  38.97 %\n",
            "Trentino-Alto Adige  -  25.21 %\n",
            "Umbria  -  45.16 %\n",
            "Valle d'Aosta  -  37.3 %\n",
            "Veneto  -  48.07 %\n",
            "Regione Max:  48.07\n"
          ]
        }
      ]
    },
    {
      "cell_type": "markdown",
      "source": [
        "6. trovare la regione che ha avuto meno casi in relazione alla popolazione"
      ],
      "metadata": {
        "id": "uULjwtSVc-pc"
      }
    },
    {
      "cell_type": "code",
      "source": [
        "print(\"Regione con meno casi:\", regioni[percentPop.index(min(percentPop))] ,\"-\",min(percentPop),\"%\")"
      ],
      "metadata": {
        "id": "b11IAXxHdC-h",
        "colab": {
          "base_uri": "https://localhost:8080/"
        },
        "outputId": "8e5b6645-41fa-4f1f-bdb8-d26d01464015"
      },
      "execution_count": null,
      "outputs": [
        {
          "output_type": "stream",
          "name": "stdout",
          "text": [
            "Regione con meno casi: Trentino-Alto Adige - 25.21 %\n"
          ]
        }
      ]
    },
    {
      "cell_type": "markdown",
      "source": [
        "#Esercizio 2"
      ],
      "metadata": {
        "id": "lDj-tyLwdDTh"
      }
    },
    {
      "cell_type": "markdown",
      "source": [
        "1. Creare due liste di 20 numeri casuali interi, compresi tra 1 e 10 non utilizzzando la list comprehension. Determinare il tempo di esecuzione di questo programma"
      ],
      "metadata": {
        "id": "HiNbJe-ldQTC"
      }
    },
    {
      "cell_type": "code",
      "source": [
        "import time,random\n",
        "\n",
        "list1 = []\n",
        "list2 = []\n",
        "start_time = time.time()\n",
        "\n",
        "for val in range(1,21):\n",
        "  rand = random.randint(1,10)\n",
        "  list1.append(rand)\n",
        "  rand2 = random.randint(1,10)\n",
        "  list2.append(rand2)\n",
        "\n",
        "print(\"Tempo di esecuzione: \", (time.time() - start_time), \"ms\")\n",
        "\n",
        "print(list1)\n",
        "print(list2)"
      ],
      "metadata": {
        "id": "hruqXxVAdWHr",
        "colab": {
          "base_uri": "https://localhost:8080/"
        },
        "outputId": "1c90b164-a8e5-4684-e232-b4bba17522aa"
      },
      "execution_count": null,
      "outputs": [
        {
          "output_type": "stream",
          "name": "stdout",
          "text": [
            "Tempo di esecuzione:  0.000293731689453125 ms\n",
            "[2, 1, 4, 9, 7, 3, 7, 6, 1, 4, 1, 7, 10, 6, 9, 2, 1, 6, 10, 7]\n",
            "[10, 9, 10, 5, 10, 9, 1, 4, 1, 3, 1, 1, 1, 3, 10, 4, 6, 8, 4, 7]\n"
          ]
        }
      ]
    },
    {
      "cell_type": "markdown",
      "source": [
        "2. Creare due liste di 20 numeri casuali interi, compresi tra 1 e 10  utilizzzando la list comprehension. Determinare il tempo di esecuzione di questo programma\n"
      ],
      "metadata": {
        "id": "wu_rcB1-dWgK"
      }
    },
    {
      "cell_type": "code",
      "source": [
        "import time\n",
        "\n",
        "start_time1 = time.time()\n",
        "list3 = [random.randint(1,20) for i in range(1,21)]\n",
        "list4 = [random.randint(1,20) for i in range(1,21)]\n",
        "print(\"Tempo di esecuzione: \", (time.time() - start_time1), \"ms\")\n",
        "\n",
        "\n",
        "print(list3)\n",
        "print(list4)"
      ],
      "metadata": {
        "id": "rqz-1n7qdx3A",
        "colab": {
          "base_uri": "https://localhost:8080/"
        },
        "outputId": "514fc59c-a6ae-410e-9de5-57677209072f"
      },
      "execution_count": null,
      "outputs": [
        {
          "output_type": "stream",
          "name": "stdout",
          "text": [
            "Tempo di esecuzione:  0.00047397613525390625 ms\n",
            "[10, 10, 1, 15, 18, 8, 8, 3, 14, 20, 15, 2, 13, 16, 17, 6, 1, 10, 3, 17]\n",
            "[3, 15, 10, 12, 20, 1, 11, 20, 3, 3, 15, 2, 13, 15, 4, 9, 9, 20, 8, 1]\n"
          ]
        }
      ]
    },
    {
      "cell_type": "markdown",
      "source": [
        "3. creare una terza lista di valore booleani: inserire un valore vero se il primo elemento della prima lista è maggiore del primo elemento della seconda lista e così via per tutti gli elemeni delle due liste"
      ],
      "metadata": {
        "id": "ep4BmOYddyIi"
      }
    },
    {
      "cell_type": "code",
      "source": [],
      "metadata": {
        "id": "838ZxBNVeCfn"
      },
      "execution_count": null,
      "outputs": []
    },
    {
      "cell_type": "markdown",
      "source": [
        "4. utilizzando la terza lista, contare quanti sono gli elementi della prima lista che sono maggiori della seconda lista"
      ],
      "metadata": {
        "id": "pJcj5hNVeC4b"
      }
    },
    {
      "cell_type": "code",
      "source": [],
      "metadata": {
        "id": "ZOdPph2WeMBg"
      },
      "execution_count": null,
      "outputs": []
    },
    {
      "cell_type": "markdown",
      "source": [
        "5. eliminare dalla seconda lista tutti gli elementi minori rispetto a quelli della prima lista, inserendoli in una quarta lista"
      ],
      "metadata": {
        "id": "9KHq-xy7eMYO"
      }
    },
    {
      "cell_type": "code",
      "source": [],
      "metadata": {
        "id": "VfgmqLmteRbD"
      },
      "execution_count": null,
      "outputs": []
    },
    {
      "cell_type": "markdown",
      "source": [
        "6. svutoare tutte e quattro le liste"
      ],
      "metadata": {
        "id": "R83H7_oheRzI"
      }
    },
    {
      "cell_type": "code",
      "source": [],
      "metadata": {
        "id": "iPDbfgW2efAJ"
      },
      "execution_count": null,
      "outputs": []
    }
  ]
}