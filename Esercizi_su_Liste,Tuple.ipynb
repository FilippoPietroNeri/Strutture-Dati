{
  "nbformat": 4,
  "nbformat_minor": 0,
  "metadata": {
    "colab": {
      "provenance": [],
      "authorship_tag": "ABX9TyOcMIc8Rs/e/uvFuKA+mHfS",
      "include_colab_link": true
    },
    "kernelspec": {
      "name": "python3",
      "display_name": "Python 3"
    },
    "language_info": {
      "name": "python"
    }
  },
  "cells": [
    {
      "cell_type": "markdown",
      "metadata": {
        "id": "view-in-github",
        "colab_type": "text"
      },
      "source": [
        "<a href=\"https://colab.research.google.com/github/FilippoPietroNeri/Strutture-Dati/blob/main/Esercizi_su_Liste%2CTuple.ipynb\" target=\"_parent\"><img src=\"https://colab.research.google.com/assets/colab-badge.svg\" alt=\"Open In Colab\"/></a>"
      ]
    },
    {
      "cell_type": "code",
      "execution_count": null,
      "metadata": {
        "id": "MoBewgcOk3VH"
      },
      "outputs": [],
      "source": [
        "lista1 = [\"mela\", \"arancia\", \"banana\"]"
      ]
    },
    {
      "cell_type": "code",
      "source": [
        "tupla1 = (\"mela\", \"arancia\", \"banana\")"
      ],
      "metadata": {
        "id": "48y1Qs03k-0k"
      },
      "execution_count": null,
      "outputs": []
    },
    {
      "cell_type": "code",
      "source": [
        "tupla2 = (\"mela\",)"
      ],
      "metadata": {
        "id": "XxevgjhvlSVJ"
      },
      "execution_count": null,
      "outputs": []
    },
    {
      "cell_type": "code",
      "source": [
        "lista1.append(\"uva\")\n",
        "print(lista1)"
      ],
      "metadata": {
        "id": "ceA737mvlZmj"
      },
      "execution_count": null,
      "outputs": []
    },
    {
      "cell_type": "code",
      "source": [
        "lista1.sort()\n",
        "print(lista1)"
      ],
      "metadata": {
        "id": "SD7D9kF6ls5m"
      },
      "execution_count": null,
      "outputs": []
    },
    {
      "cell_type": "code",
      "source": [
        "milella = {\"banana\",\"kiwi\",\"arancia\"}"
      ],
      "metadata": {
        "id": "_UsjRLsrmQA6"
      },
      "execution_count": null,
      "outputs": []
    },
    {
      "cell_type": "code",
      "source": [
        "avasiloae = {\"pere\",\"uva\",\"kiwi\"}"
      ],
      "metadata": {
        "id": "s7JDVLgKm5x_"
      },
      "execution_count": null,
      "outputs": []
    },
    {
      "cell_type": "code",
      "source": [
        "tuttiFrutti = milella.union(avasiloae)\n",
        "print(tuttiFrutti)"
      ],
      "metadata": {
        "id": "PfnWmCdQpfjL"
      },
      "execution_count": null,
      "outputs": []
    },
    {
      "cell_type": "code",
      "source": [
        "fruttiMilella = milella.symmetric_difference(avasiloae)\n",
        "print(fruttiMilella)"
      ],
      "metadata": {
        "id": "Xrn7M_yMpm6K"
      },
      "execution_count": null,
      "outputs": []
    },
    {
      "cell_type": "code",
      "source": [
        "fruttiMilella2 = milella.difference(avasiloae)\n",
        "print(fruttiMilella2)"
      ],
      "metadata": {
        "colab": {
          "base_uri": "https://localhost:8080/"
        },
        "id": "vP9HeNEMp0FI",
        "outputId": "5a782c9b-f6ef-496f-a7f1-27c76f566f1d"
      },
      "execution_count": null,
      "outputs": [
        {
          "output_type": "stream",
          "name": "stdout",
          "text": [
            "{'arancia', 'banana'}\n"
          ]
        }
      ]
    },
    {
      "cell_type": "code",
      "source": [
        "milella.add(\"fragola\")\n",
        "print(milella)"
      ],
      "metadata": {
        "colab": {
          "base_uri": "https://localhost:8080/"
        },
        "id": "tgBWg5yfrPRT",
        "outputId": "ddb8b5d9-b628-41d6-8189-91dfd5a3815d"
      },
      "execution_count": null,
      "outputs": [
        {
          "output_type": "stream",
          "name": "stdout",
          "text": [
            "{'fragola', 'arancia', 'kiwi', 'banana'}\n"
          ]
        }
      ]
    },
    {
      "cell_type": "code",
      "source": [
        "milella.remove(\"kiwi\")\n",
        "print(milella)"
      ],
      "metadata": {
        "colab": {
          "base_uri": "https://localhost:8080/"
        },
        "id": "XdzEXq2JrbS_",
        "outputId": "481c0c13-b8b4-4312-9add-1ce011a18505"
      },
      "execution_count": null,
      "outputs": [
        {
          "output_type": "stream",
          "name": "stdout",
          "text": [
            "{'fragola', 'arancia', 'banana'}\n"
          ]
        }
      ]
    },
    {
      "cell_type": "code",
      "source": [
        "frutta = ['uva', 'mela', 'uva', 'mela', 'kiwi', 'kiwi', 'mela']\n",
        "print(frutta)"
      ],
      "metadata": {
        "colab": {
          "base_uri": "https://localhost:8080/"
        },
        "id": "6R5mgBZrr0IR",
        "outputId": "cb6386c7-30be-42b1-aa3c-aa8168a6bf0e"
      },
      "execution_count": null,
      "outputs": [
        {
          "output_type": "stream",
          "name": "stdout",
          "text": [
            "['uva', 'mela', 'uva', 'mela', 'kiwi', 'kiwi', 'mela']\n"
          ]
        }
      ]
    },
    {
      "cell_type": "code",
      "source": [
        "fruttaInsieme = set(frutta)\n",
        "print(fruttaInsieme)"
      ],
      "metadata": {
        "colab": {
          "base_uri": "https://localhost:8080/"
        },
        "id": "Mu7V0jSfr-4y",
        "outputId": "3db7d13d-8f3c-49ad-ddb1-28c615d48f60"
      },
      "execution_count": null,
      "outputs": [
        {
          "output_type": "stream",
          "name": "stdout",
          "text": [
            "{'uva', 'kiwi', 'mela'}\n"
          ]
        }
      ]
    },
    {
      "cell_type": "code",
      "source": [
        "fruttaLista = list(fruttaInsieme)\n",
        "print(fruttaLista)"
      ],
      "metadata": {
        "colab": {
          "base_uri": "https://localhost:8080/"
        },
        "id": "9rKYit15sVE5",
        "outputId": "f63ade71-b5e8-4bdc-cefe-8f4bff4c2958"
      },
      "execution_count": null,
      "outputs": [
        {
          "output_type": "stream",
          "name": "stdout",
          "text": [
            "['uva', 'kiwi', 'mela']\n"
          ]
        }
      ]
    },
    {
      "cell_type": "code",
      "source": [
        "fruttaTuple = tuple(fruttaLista)\n",
        "print(fruttaTuple)"
      ],
      "metadata": {
        "colab": {
          "base_uri": "https://localhost:8080/"
        },
        "id": "fLUEnv3BslLB",
        "outputId": "b7addccc-c3bc-4ee5-e118-9f37385dfa6e"
      },
      "execution_count": null,
      "outputs": [
        {
          "output_type": "stream",
          "name": "stdout",
          "text": [
            "('uva', 'kiwi', 'mela')\n"
          ]
        }
      ]
    },
    {
      "cell_type": "code",
      "source": [
        "fruttaTuple = tuple(list(set(frutta)))\n",
        "print(fruttaTuple)"
      ],
      "metadata": {
        "colab": {
          "base_uri": "https://localhost:8080/"
        },
        "id": "IpQ6EGOYtQ8b",
        "outputId": "659d5466-a9a8-4b32-eb63-2b2e8234d8dd"
      },
      "execution_count": null,
      "outputs": [
        {
          "output_type": "stream",
          "name": "stdout",
          "text": [
            "('uva', 'kiwi', 'mela')\n"
          ]
        }
      ]
    },
    {
      "cell_type": "code",
      "source": [
        "squadre = ['milan', 'inter', 'milan', 'juve', 'napoli', 'napoli']"
      ],
      "metadata": {
        "id": "DJk6nRG8twTn"
      },
      "execution_count": null,
      "outputs": []
    },
    {
      "cell_type": "code",
      "source": [
        "squadreSenzaRipetizioni = list(set(squadre))\n",
        "print(squadreSenzaRipetizioni)"
      ],
      "metadata": {
        "colab": {
          "base_uri": "https://localhost:8080/"
        },
        "id": "yM7LC8u_t82W",
        "outputId": "7c2a4c03-5918-4d4f-d769-b286ad258b45"
      },
      "execution_count": null,
      "outputs": [
        {
          "output_type": "stream",
          "name": "stdout",
          "text": [
            "['milan', 'inter', 'napoli', 'juve']\n"
          ]
        }
      ]
    },
    {
      "cell_type": "code",
      "source": [
        "studentiMilan = {'darienzo', 'bernasconi', 'geremicca'}\n",
        "studentiInter = {'milella', 'lotorto', 'bernasconi'}"
      ],
      "metadata": {
        "id": "82ULZTTNurL7"
      },
      "execution_count": null,
      "outputs": []
    },
    {
      "cell_type": "code",
      "source": [
        "studenti = studentiMilan.union(studentiInter)\n",
        "print(studenti)"
      ],
      "metadata": {
        "colab": {
          "base_uri": "https://localhost:8080/"
        },
        "id": "db5fYMyku6PI",
        "outputId": "6d4a7839-5b53-4e19-b7bf-03cc0cdb3d93"
      },
      "execution_count": null,
      "outputs": [
        {
          "output_type": "stream",
          "name": "stdout",
          "text": [
            "{'milella', 'bernasconi', 'geremicca', 'darienzo', 'lotorto'}\n"
          ]
        }
      ]
    },
    {
      "cell_type": "code",
      "source": [
        "print(len(studenti))"
      ],
      "metadata": {
        "colab": {
          "base_uri": "https://localhost:8080/"
        },
        "id": "AdghomKkvObu",
        "outputId": "07654a0c-2296-4fe3-d86d-d21064c93ba4"
      },
      "execution_count": null,
      "outputs": [
        {
          "output_type": "stream",
          "name": "stdout",
          "text": [
            "5\n"
          ]
        }
      ]
    },
    {
      "cell_type": "code",
      "source": [
        "studentiDueSquadre = studentiMilan.intersection(studentiInter)\n",
        "print(studentiDueSquadre)"
      ],
      "metadata": {
        "colab": {
          "base_uri": "https://localhost:8080/"
        },
        "id": "89OuKiMjvXEA",
        "outputId": "44f11110-4c17-48e5-8834-ecb0cd929889"
      },
      "execution_count": null,
      "outputs": [
        {
          "output_type": "stream",
          "name": "stdout",
          "text": [
            "{'bernasconi'}\n"
          ]
        }
      ]
    },
    {
      "cell_type": "code",
      "source": [
        "studentiNonTifanoMilan = studentiInter.difference(studentiMilan)\n",
        "print(studentiNonTifanoMilan)"
      ],
      "metadata": {
        "colab": {
          "base_uri": "https://localhost:8080/"
        },
        "id": "7Cq8PAOhvxe5",
        "outputId": "e75efb98-d631-41ca-dc38-b50163054d41"
      },
      "execution_count": null,
      "outputs": [
        {
          "output_type": "stream",
          "name": "stdout",
          "text": [
            "{'milella', 'lotorto'}\n"
          ]
        }
      ]
    },
    {
      "cell_type": "markdown",
      "source": [
        "Esercizi\n"
      ],
      "metadata": {
        "id": "MD6hQbHA4cde"
      }
    },
    {
      "cell_type": "code",
      "source": [
        "Neri = {\n",
        "    \"nome\": \"Filippo Pietro\",\n",
        "    \"cognome\": \"Neri\",\n",
        "    \"età\": 17,\n",
        "}\n",
        "print(Neri)"
      ],
      "metadata": {
        "colab": {
          "base_uri": "https://localhost:8080/"
        },
        "id": "U6PrfUPa4eFa",
        "outputId": "fc7edee1-413a-4fbd-e7bf-7349e81d9be5"
      },
      "execution_count": null,
      "outputs": [
        {
          "output_type": "stream",
          "name": "stdout",
          "text": [
            "{'nome': 'Filippo Pietro', 'cognome': 'Neri', 'età': 17}\n"
          ]
        }
      ]
    },
    {
      "cell_type": "code",
      "source": [
        "Neri[\"altezza\"] = 180\n",
        "print(Neri)"
      ],
      "metadata": {
        "colab": {
          "base_uri": "https://localhost:8080/"
        },
        "id": "vCaXKMRt4zoF",
        "outputId": "e1af568b-6b62-43f7-a9d3-c6ce0459b219"
      },
      "execution_count": null,
      "outputs": [
        {
          "output_type": "stream",
          "name": "stdout",
          "text": [
            "{'nome': 'Filippo Pietro', 'cognome': 'Neri', 'età': 17, 'altezza': 180}\n"
          ]
        }
      ]
    },
    {
      "cell_type": "code",
      "source": [
        "Neri['altezza'] = 175\n",
        "print(Neri)"
      ],
      "metadata": {
        "colab": {
          "base_uri": "https://localhost:8080/"
        },
        "id": "rsvJmCbd5Rpb",
        "outputId": "ce01c1dd-b75a-451f-91e1-8c562b439082"
      },
      "execution_count": null,
      "outputs": [
        {
          "output_type": "stream",
          "name": "stdout",
          "text": [
            "{'nome': 'Filippo Pietro', 'cognome': 'Neri', 'età': 17, 'altezza': 175}\n"
          ]
        }
      ]
    },
    {
      "cell_type": "code",
      "source": [
        "len(Neri.keys())"
      ],
      "metadata": {
        "colab": {
          "base_uri": "https://localhost:8080/"
        },
        "id": "XJaThPQW5eJ6",
        "outputId": "b50b1f2f-2216-43cf-e2f2-29538852d789"
      },
      "execution_count": null,
      "outputs": [
        {
          "output_type": "execute_result",
          "data": {
            "text/plain": [
              "4"
            ]
          },
          "metadata": {},
          "execution_count": 55
        }
      ]
    },
    {
      "cell_type": "code",
      "source": [
        "keys2 = list(Neri.keys())[1]"
      ],
      "metadata": {
        "id": "am5EwGl86tSa"
      },
      "execution_count": null,
      "outputs": []
    },
    {
      "cell_type": "code",
      "source": [
        "Neri2 = Neri.copy()\n",
        "print(Neri2)"
      ],
      "metadata": {
        "colab": {
          "base_uri": "https://localhost:8080/"
        },
        "id": "wN6cDjoD56gF",
        "outputId": "16c84b38-d5bc-4df9-ad04-b8710ab6f995"
      },
      "execution_count": null,
      "outputs": [
        {
          "output_type": "stream",
          "name": "stdout",
          "text": [
            "{'nome': 'Filippo Pietro', 'cognome': 'Neri', 'età': 17, 'altezza': 175}\n"
          ]
        }
      ]
    },
    {
      "cell_type": "code",
      "source": [
        "Neri2 = Neri\n",
        "print(Neri2)"
      ],
      "metadata": {
        "colab": {
          "base_uri": "https://localhost:8080/"
        },
        "id": "lEY8i_Bu7U03",
        "outputId": "b1bd0dd8-7c86-45d8-a9d4-cf94052945da"
      },
      "execution_count": null,
      "outputs": [
        {
          "output_type": "stream",
          "name": "stdout",
          "text": [
            "{'nome': 'Filippo Pietro', 'cognome': 'Neri', 'età': 17, 'altezza': 175}\n"
          ]
        }
      ]
    },
    {
      "cell_type": "code",
      "source": [
        "Neri2.clear()\n",
        "print(Neri2)"
      ],
      "metadata": {
        "colab": {
          "base_uri": "https://localhost:8080/"
        },
        "id": "4mCryr687EpT",
        "outputId": "9abd0b82-251c-4160-c8ba-de5051c48c16"
      },
      "execution_count": null,
      "outputs": [
        {
          "output_type": "stream",
          "name": "stdout",
          "text": [
            "{}\n"
          ]
        }
      ]
    },
    {
      "cell_type": "code",
      "source": [
        "Neri2['comodino'] = ('batte', 'forte', 'sempre')\n",
        "print(Neri2)"
      ],
      "metadata": {
        "colab": {
          "base_uri": "https://localhost:8080/"
        },
        "id": "l3ahZg4r7Zv2",
        "outputId": "bbc4af47-8807-4a61-e3a6-dee991ec5302"
      },
      "execution_count": null,
      "outputs": [
        {
          "output_type": "stream",
          "name": "stdout",
          "text": [
            "{'nome': 'Filippo Pietro', 'cognome': 'Neri', 'età': 17, 'altezza': 175, 'comodino': ('batte', 'forte', 'sempre')}\n"
          ]
        }
      ]
    },
    {
      "cell_type": "markdown",
      "source": [
        "# Esercizio\n",
        "Si vogliono memorizzare le informazioni riguardanti alcune nazioni dell'unione europea. Di ogni nazione si vuole memorizzare il Nome, La Capitale, La Superficie e La Popolazione.\n",
        "- Caricare le informazioni nella struttura dati ritenuta più opportuna.\n",
        "\n",
        "Scrivere poi il codice per avere le seguenti informazioni:\n",
        "1. Dato il nome di una nazione tutte le sue informazioni\n",
        "2. Dato un nome della capitale, visualizzare la nazione a cui appartiene\n",
        "3. Visualizzare il nome della nazione più estesa\n",
        "4. Visualizzare la media delle popolazioni delle nazioni presenti"
      ],
      "metadata": {
        "id": "YfMRUIsyvVSh"
      }
    },
    {
      "cell_type": "code",
      "source": [
        "Nazioni = [\n",
        "    {\n",
        "        \"nome\": \"Italia\",\n",
        "        \"capitale\": \"Roma\",\n",
        "        \"superficie\": 301338,\n",
        "        \"popolazione\": 58983000\n",
        "    },\n",
        "    {\n",
        "        \"nome\": \"Austria\",\n",
        "        \"capitale\": \"Vienna\",\n",
        "        \"superficie\": 83879,\n",
        "        \"popolazione\": 9027999\n",
        "    },\n",
        "    { \n",
        "        \"nome\": \"Belgio\",\n",
        "        \"capitale\": \"Bruxelles\",\n",
        "        \"superficie\": 30536,\n",
        "        \"popolazione\": 11550039\n",
        "    },\n",
        "    {\n",
        "        \"nome\": \"Germania\",\n",
        "        \"capitale\": \"Berlino\",\n",
        "        \"superficie\": 357582,\n",
        "        \"popolazione\": 84404137\n",
        "    },\n",
        "    {\n",
        "        \"nome\": \"Polonia\",\n",
        "        \"capitale\": \"Varsavia\",\n",
        "        \"superficie\": 312696,\n",
        "        \"popolazione\": 38470612\n",
        "    },\n",
        "    {\n",
        "        \"nome\": \"Romania\",\n",
        "        \"capitale\": \"Bucarest\",\n",
        "        \"superficie\": 238391,\n",
        "        \"popolazione\": 19638000\n",
        "    },\n",
        "    {\n",
        "        \"nome\": \"Francia\",\n",
        "        \"capitale\": \"Parigi\",\n",
        "        \"superficie\": 675417,\n",
        "        \"popolazione\": 65554051\n",
        "    },\n",
        "    {\n",
        "        \"nome\":  \"Danimarca\",\n",
        "        \"capitale\": \"Copenaghen\",\n",
        "        \"superficie\": 43094,\n",
        "        \"popolazione\": 5840045\n",
        "    },\n",
        "    {\n",
        "        \"nome\": \"Spagna\",\n",
        "        \"capitale\": \"Madrid\",\n",
        "        \"superficie\": 504645,\n",
        "        \"popolazione\": 46769864 \n",
        "    },\n",
        "    {\n",
        "        \"nome\": \"Ungheria\",\n",
        "        \"capitale\": \"Budapest\",\n",
        "        \"superficie\": 93030,\n",
        "        \"popolazione\": 9709886 \n",
        "    }\n",
        "]\n",
        "\n",
        "for nazione in Nazioni:\n",
        "  print(nazione['nome'], \"-\", nazione['capitale'])"
      ],
      "metadata": {
        "id": "25NEBMY1vfjq"
      },
      "execution_count": null,
      "outputs": []
    },
    {
      "cell_type": "code",
      "source": [
        "inputNaz = input('Inserisci la nazione a cui vuoi avere informazioni: ')\n",
        "\n",
        "for nazione in Nazioni:\n",
        "  if inputNaz.lower() == nazione['nome'].lower():\n",
        "      print(\"\\nNome:\", nazione['nome'], \"\\nCapitale:\", nazione['capitale'], \"\\nSuperficie:\",nazione['superficie'],\"\\nPopolazione:\",nazione['popolazione'])\n"
      ],
      "metadata": {
        "id": "QdeRwaPC78FB"
      },
      "execution_count": null,
      "outputs": []
    },
    {
      "cell_type": "code",
      "source": [
        "inputCapitale = input('Inserisci la capitale a cui vuoi sapere la Nazione: ')\n",
        "\n",
        "for capitale in Nazioni:\n",
        "  if inputCapitale.lower() == capitale['capitale'].lower():\n",
        "    print(\"La nazione è\",capitale['nome'])"
      ],
      "metadata": {
        "colab": {
          "base_uri": "https://localhost:8080/"
        },
        "id": "VeX8FlSP__do",
        "outputId": "7a2f32c7-1273-4fd4-e963-cfdeafbc0715"
      },
      "execution_count": null,
      "outputs": [
        {
          "output_type": "stream",
          "name": "stdout",
          "text": [
            "Inserisci la capitale a cui vuoi sapere la Nazione: budaPEST\n",
            "La nazione è Ungheria\n"
          ]
        }
      ]
    },
    {
      "cell_type": "code",
      "source": [
        "listaSuperfici = [Nazioni[i]['superficie'] for i in range(len(Nazioni))]\n",
        "\n",
        "for nazione in Nazioni:\n",
        "  if max(listaSuperfici) == nazione['superficie']:\n",
        "    print(\"La nazione con un estensione più grande è\", nazione['nome'], \"con\", nazione['superficie'])"
      ],
      "metadata": {
        "colab": {
          "base_uri": "https://localhost:8080/"
        },
        "id": "gniwQBxEBZ31",
        "outputId": "1fba880d-a654-4e15-9f95-4c1f916e910e"
      },
      "execution_count": null,
      "outputs": [
        {
          "output_type": "stream",
          "name": "stdout",
          "text": [
            "La nazione con un estensione più grande è Francia con 675417\n"
          ]
        }
      ]
    },
    {
      "cell_type": "code",
      "source": [
        "from statistics import mean\n",
        "\n",
        "listaPopolazione = [Nazioni[i]['popolazione'] for i in range(len(Nazioni))]\n",
        "print(mean(listaPopolazione))"
      ],
      "metadata": {
        "colab": {
          "base_uri": "https://localhost:8080/"
        },
        "id": "dD4IYgzAGc_y",
        "outputId": "b5662e0f-2e32-45f8-8396-44801c33a5cf"
      },
      "execution_count": null,
      "outputs": [
        {
          "output_type": "stream",
          "name": "stdout",
          "text": [
            "34994763.3\n"
          ]
        }
      ]
    },
    {
      "cell_type": "markdown",
      "source": [
        "# Esercizio 2\n",
        "Memorizzare in un opportuna struttura dati, i nomi di 10 città europee e in un'altra struttura dati i nomi di 10 capitali.\n",
        "\n",
        "Scrivere poi il codice necessario per avere i nomi delle città che sono anche capitali."
      ],
      "metadata": {
        "id": "88DhgT60wb8M"
      }
    }
  ]
}