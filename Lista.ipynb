{
  "nbformat": 4,
  "nbformat_minor": 0,
  "metadata": {
    "colab": {
      "provenance": []
    },
    "kernelspec": {
      "name": "python3",
      "display_name": "Python 3"
    },
    "language_info": {
      "name": "python"
    }
  },
  "cells": [
    {
      "cell_type": "markdown",
      "source": [],
      "metadata": {
        "id": "mqz-K-Qy46ya"
      }
    },
    {
      "cell_type": "code",
      "source": [
        "a = []"
      ],
      "metadata": {
        "id": "T9oflU6k4-IZ"
      },
      "execution_count": null,
      "outputs": []
    },
    {
      "cell_type": "code",
      "source": [
        "b = [1,2,3,4,5,6,7,8,9,10]\n",
        "print(b)"
      ],
      "metadata": {
        "colab": {
          "base_uri": "https://localhost:8080/"
        },
        "id": "OdAPymrz5EoR",
        "outputId": "1bf923b2-dd65-44f7-b254-97753286e95e"
      },
      "execution_count": null,
      "outputs": [
        {
          "output_type": "stream",
          "name": "stdout",
          "text": [
            "[1, 2, 3, 4, 5, 6, 7, 8, 9]\n"
          ]
        }
      ]
    },
    {
      "cell_type": "code",
      "source": [
        "type(b)"
      ],
      "metadata": {
        "colab": {
          "base_uri": "https://localhost:8080/"
        },
        "id": "vVHsbycU5b6l",
        "outputId": "d516cc87-c95d-4a53-89f5-45c35078df84"
      },
      "execution_count": null,
      "outputs": [
        {
          "output_type": "execute_result",
          "data": {
            "text/plain": [
              "list"
            ]
          },
          "metadata": {},
          "execution_count": 2
        }
      ]
    },
    {
      "cell_type": "code",
      "source": [
        "c = [12,'pippo',37.92,'pluto',['qui',[8,12,24],'qua'],58]\n",
        "print(c[4][1][2])"
      ],
      "metadata": {
        "colab": {
          "base_uri": "https://localhost:8080/"
        },
        "id": "OXqpzDN158cl",
        "outputId": "a1b1a629-9394-4605-d295-60cef89f594e"
      },
      "execution_count": null,
      "outputs": [
        {
          "output_type": "stream",
          "name": "stdout",
          "text": [
            "24\n"
          ]
        }
      ]
    },
    {
      "cell_type": "code",
      "source": [
        "d = [1,2,3,4,5,6,7,8,9,10]\n",
        "\n",
        "print(d[-1])"
      ],
      "metadata": {
        "colab": {
          "base_uri": "https://localhost:8080/"
        },
        "id": "6Zkz3bJ57jQ_",
        "outputId": "09cbb75d-fd9d-43f9-893f-4196a1057fb8"
      },
      "execution_count": null,
      "outputs": [
        {
          "output_type": "stream",
          "name": "stdout",
          "text": [
            "10\n"
          ]
        }
      ]
    },
    {
      "cell_type": "code",
      "source": [
        "num = [0,1,2,3,4,5,6,7,8,9]\n",
        "#Visualizzare array dal 3 al 6\n",
        "print(num[3:7])\n",
        "#Visualizzare gli ultimi 5\n",
        "print(num[5:])\n",
        "#Visualizzare i primi 5\n",
        "print(num[:5])\n",
        "#Visualizzare i numeri del penultimo e terzultimo numero\n",
        "print(num[-3:-1])\n",
        "#Visualizzare\n",
        "print(num[2:9:2])\n",
        "#Visualizzare i numeri a due a due\n",
        "print(num[::2])"
      ],
      "metadata": {
        "id": "ZJHwah4w9dgz"
      },
      "execution_count": null,
      "outputs": []
    },
    {
      "cell_type": "code",
      "source": [
        "stringa = 'La mamma è bella'\n",
        "print(list(stringa))"
      ],
      "metadata": {
        "colab": {
          "base_uri": "https://localhost:8080/"
        },
        "id": "CCpMBydDAa-_",
        "outputId": "0719d033-8d2c-4a53-9720-e0ced98e32b5"
      },
      "execution_count": null,
      "outputs": [
        {
          "output_type": "stream",
          "name": "stdout",
          "text": [
            "['L', 'a', ' ', 'm', 'a', 'm', 'm', 'a', ' ', 'è', ' ', 'b', 'e', 'l', 'l', 'a']\n"
          ]
        }
      ]
    },
    {
      "cell_type": "code",
      "source": [
        "lst = [1,2,3]\n",
        "\n",
        "#\n",
        "lst.append(12)\n",
        "print(lst)\n",
        "#\n",
        "lst.append([10,19])\n",
        "print(lst)\n",
        "#\n",
        "lst.extend([15,20])\n",
        "print(lst)"
      ],
      "metadata": {
        "colab": {
          "base_uri": "https://localhost:8080/"
        },
        "id": "JSBPwfPwCLEF",
        "outputId": "6e79331d-aabf-40a0-b16f-e29641a18785"
      },
      "execution_count": null,
      "outputs": [
        {
          "output_type": "stream",
          "name": "stdout",
          "text": [
            "[1, 2, 3, 12]\n",
            "[1, 2, 3, 12, [10, 19]]\n",
            "[1, 2, 3, 12, [10, 19], 15, 20]\n"
          ]
        }
      ]
    }
  ]
}