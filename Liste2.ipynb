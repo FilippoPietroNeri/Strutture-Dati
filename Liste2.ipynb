{
  "nbformat": 4,
  "nbformat_minor": 0,
  "metadata": {
    "colab": {
      "provenance": []
    },
    "kernelspec": {
      "name": "python3",
      "display_name": "Python 3"
    },
    "language_info": {
      "name": "python"
    }
  },
  "cells": [
    {
      "cell_type": "code",
      "execution_count": null,
      "metadata": {
        "colab": {
          "base_uri": "https://localhost:8080/"
        },
        "id": "EkGxV9yKreYv",
        "outputId": "0dba5a0f-d35d-454f-c01c-3f4eed8cbfe2"
      },
      "outputs": [
        {
          "output_type": "stream",
          "name": "stdout",
          "text": [
            "[8, 17, -5, 4, 76, 9, 2]\n",
            "8\n",
            "2\n"
          ]
        }
      ],
      "source": [
        "#Caricare in una lista i numeri 8,17,-5,4,76,9,2\n",
        "lista = [8,17,-5,4,76,9,2]\n",
        "print(lista)\n",
        "#visualizzazione primo elemento\n",
        "print(lista[0])\n",
        "#visualizzazione ultimo elemento\n",
        "print(lista[-1])  "
      ]
    },
    {
      "cell_type": "code",
      "source": [
        "#Aggiungere i valori 7,8,4,9 alla lista\n",
        "lista.extend([7,8,4,9])\n",
        "print(lista)"
      ],
      "metadata": {
        "colab": {
          "base_uri": "https://localhost:8080/"
        },
        "id": "T55HhpwvsyHh",
        "outputId": "586a9c39-df8c-419a-d367-c8408a6e5cb3"
      },
      "execution_count": null,
      "outputs": [
        {
          "output_type": "stream",
          "name": "stdout",
          "text": [
            "[8, 17, -5, 4, 76, 9, 2, 7, 8, 4, 9, 7, 8, 4, 9, 7, 8, 4, 9]\n"
          ]
        }
      ]
    },
    {
      "cell_type": "code",
      "source": [
        "#ordinare la lista\n",
        "lista.sort()\n",
        "\n",
        "print(lista)"
      ],
      "metadata": {
        "colab": {
          "base_uri": "https://localhost:8080/"
        },
        "id": "3tELrAdgtgeK",
        "outputId": "1d98006f-eece-4632-dad4-22e6539343dc"
      },
      "execution_count": null,
      "outputs": [
        {
          "output_type": "stream",
          "name": "stdout",
          "text": [
            "[-5, 2, 4, 4, 4, 4, 7, 7, 7, 8, 8, 8, 8, 9, 9, 9, 9, 17, 76]\n"
          ]
        }
      ]
    },
    {
      "cell_type": "code",
      "source": [
        "#rimuovere un numero nella lista\n",
        "\n",
        "#lista = list(filter((9).__ne__, lista))\n",
        "test = [1,2,3,4,5,6,7,8,9,9,9,9,9,9,9,9,9,9]\n",
        "\n",
        "def newFilter(x,y,z):\n",
        "  array = []\n",
        "  for i in range(0, len(z)):\n",
        "    if y == \"ne\":\n",
        "      if z[i] != x:\n",
        "        array.append(x)\n",
        "    elif y == \"eq\":\n",
        "      if z[i] == x:\n",
        "        array.append(x)\n",
        "    elif y == \"mt\":\n",
        "      if z[i] > x:\n",
        "        array.append(x)\n",
        "  return array\n",
        "\n",
        "print(\"Before --> \", test)\n",
        "test = list(newFilter(9,\"eq\",test))\n",
        "print(\"After --> \", test)"
      ],
      "metadata": {
        "colab": {
          "base_uri": "https://localhost:8080/"
        },
        "id": "L-GmCDunu5mN",
        "outputId": "37a85957-a38c-4d19-eccf-d4fafbde8021"
      },
      "execution_count": null,
      "outputs": [
        {
          "output_type": "stream",
          "name": "stdout",
          "text": [
            "Before -->  [1, 2, 3, 4, 5, 6, 7, 8, 9, 9, 9, 9, 9, 9, 9, 9, 9, 9]\n",
            "After -->  [9, 9, 9, 9, 9, 9, 9, 9]\n"
          ]
        }
      ]
    },
    {
      "cell_type": "code",
      "source": [
        "#contare il numero di volte che compare il numero 9\n",
        "lista.count(9)"
      ],
      "metadata": {
        "colab": {
          "base_uri": "https://localhost:8080/"
        },
        "id": "NHZDYPwa09Kr",
        "outputId": "e351b4a4-a717-4db0-b654-bb75e5b12ee2"
      },
      "execution_count": null,
      "outputs": [
        {
          "output_type": "execute_result",
          "data": {
            "text/plain": [
              "0"
            ]
          },
          "metadata": {},
          "execution_count": 58
        }
      ]
    },
    {
      "cell_type": "code",
      "source": [
        "print(lista)\n",
        "#cercare l'indice del numero otto\n",
        "lista.index(8)"
      ],
      "metadata": {
        "colab": {
          "base_uri": "https://localhost:8080/"
        },
        "id": "lqnZUx3b3Yds",
        "outputId": "b8ca8997-6662-4374-975e-7de6376731fa"
      },
      "execution_count": null,
      "outputs": [
        {
          "output_type": "stream",
          "name": "stdout",
          "text": [
            "[-5, 2, 4, 4, 4, 4, 7, 7, 7, 8, 8, 8, 8, 17, 76]\n"
          ]
        },
        {
          "output_type": "execute_result",
          "data": {
            "text/plain": [
              "9"
            ]
          },
          "metadata": {},
          "execution_count": 59
        }
      ]
    },
    {
      "cell_type": "code",
      "source": [
        "#inserire il numero 0 prima del 17\n",
        "lista.insert(lista.index(17), 0)\n",
        "print(lista)"
      ],
      "metadata": {
        "colab": {
          "base_uri": "https://localhost:8080/"
        },
        "id": "hm0VBfuY3yxs",
        "outputId": "61b0d385-9a69-4b6b-f2c0-0c10b2581da2"
      },
      "execution_count": null,
      "outputs": [
        {
          "output_type": "stream",
          "name": "stdout",
          "text": [
            "[-5, 2, 4, 4, 4, 4, 7, 7, 7, 8, 'rafy', 'rafy', 8, 8, 8, 0, 17, 76]\n"
          ]
        }
      ]
    },
    {
      "cell_type": "code",
      "source": [
        "#inserire il numero 0 dopo del 17\n",
        "lista.insert(lista.index(17)+1, 0)\n",
        "print(lista)"
      ],
      "metadata": {
        "colab": {
          "base_uri": "https://localhost:8080/"
        },
        "id": "KNw8Ct0y4v-M",
        "outputId": "8b2f5455-250e-44f1-88c6-dc9b5d43c4ba"
      },
      "execution_count": null,
      "outputs": [
        {
          "output_type": "stream",
          "name": "stdout",
          "text": [
            "[-5, 4, 4, 4, 4, 7, 7, 7, 8, 'rafy', 'rafy', 8, 8, 8, 0, 17, 0]\n"
          ]
        }
      ]
    },
    {
      "cell_type": "code",
      "source": [
        "del lista[9]\n",
        "print(lista)"
      ],
      "metadata": {
        "colab": {
          "base_uri": "https://localhost:8080/"
        },
        "id": "uXrdcjzo5HFA",
        "outputId": "ca1a9cb7-8f1b-41ab-fa29-f010e1837eda"
      },
      "execution_count": null,
      "outputs": [
        {
          "output_type": "stream",
          "name": "stdout",
          "text": [
            "[-5, 4, 4, 4, 4, 7, 7, 7, 8, 8, 8, 0, 17, 0]\n"
          ]
        }
      ]
    },
    {
      "cell_type": "code",
      "source": [
        "lista1 = [5,7,9,2]\n",
        "lista2 = lista1\n",
        "print(lista1)\n",
        "print(lista2)"
      ],
      "metadata": {
        "colab": {
          "base_uri": "https://localhost:8080/"
        },
        "id": "4ARNEbZZ6N_L",
        "outputId": "8d60faa1-e633-4cc6-8606-818c8ca3889c"
      },
      "execution_count": null,
      "outputs": [
        {
          "output_type": "stream",
          "name": "stdout",
          "text": [
            "[5, 7, 9, 2]\n",
            "[5, 7, 9, 2]\n"
          ]
        }
      ]
    },
    {
      "cell_type": "code",
      "source": [
        "print(lista1)\n",
        "print(lista2)\n",
        "print(hex(lista[1]))"
      ],
      "metadata": {
        "colab": {
          "base_uri": "https://localhost:8080/"
        },
        "id": "eRo1NlL66d34",
        "outputId": "b09f62b9-460d-47f3-9ef4-88df4f5bd38c"
      },
      "execution_count": null,
      "outputs": [
        {
          "output_type": "stream",
          "name": "stdout",
          "text": [
            "[5, 7, 9, 2]\n",
            "[5, 7, 9, 2]\n",
            "0x4\n"
          ]
        }
      ]
    },
    {
      "cell_type": "code",
      "source": [],
      "metadata": {
        "id": "ic3sI9jw9Jjr"
      },
      "execution_count": null,
      "outputs": []
    },
    {
      "cell_type": "markdown",
      "source": [
        "1. Inizializzare una lista con i seguenti numeri: 8,18,27,-8,51,40,-9,-76\n",
        "2. Aggiungere in fondo alla lista i valori: 7,4,95\n",
        "3. Aggiungere all'inizio della lista i valori: 7,4,95\n",
        "4. Visualizzare il numero di elementi nella lista.\n",
        "5. Aggiungere in 4 posizione il numero 100\n",
        "6. Eliminare il terzultimo elemento nella lista\n",
        "7. Visualizzare il valore massimo, minimo della lista\n",
        "8. Calcolare la somma degli elementi nella lista\n",
        "9. Calcolare la media degli elementi nella lista\n",
        "10. Rimuovere dalla lista il numero 7 \n",
        "11. Ordinare la lista in ordine decrescente\n",
        "12. Eliminare dalla lista il numero più alto e il numero più basso\n",
        "13. Visualizzare gli elementi di posto pari\n",
        "14. Visualizzare gli elementi di posto dispari\n",
        "15. Visualizzare i primi 5 elementi\n",
        "16. Visualizzare gli ultimi 5 elementi\n",
        "17. Visualizzare i 5 elementi centrali\n",
        "18. Rimuovere i duplicati dalla lista"
      ],
      "metadata": {
        "id": "ypwuihyP7ntN"
      }
    },
    {
      "cell_type": "code",
      "source": [
        "#1. Inizializzare una lista con i seguenti numeri: 8,18,27,-8,51,40,-9,-76\n",
        "lst = [8,18,27,-8,51,40,-9,-76]\n",
        "print(lst)"
      ],
      "metadata": {
        "colab": {
          "base_uri": "https://localhost:8080/"
        },
        "id": "ghuXHgdi8m1i",
        "outputId": "fa814cec-04f5-49a7-f022-58690951f375"
      },
      "execution_count": null,
      "outputs": [
        {
          "output_type": "stream",
          "name": "stdout",
          "text": [
            "[8, 18, 27, -8, 51, 40, -9, -76]\n"
          ]
        }
      ]
    },
    {
      "cell_type": "code",
      "source": [
        "#2. Aggiungere in fondo alla lista i valori: 7,4,95\n",
        "lst.extend([7,4,95])\n",
        "print(lst)"
      ],
      "metadata": {
        "colab": {
          "base_uri": "https://localhost:8080/"
        },
        "id": "izHDrD6U9yMZ",
        "outputId": "58c60835-8e30-488c-d7df-9171cffddd59"
      },
      "execution_count": null,
      "outputs": [
        {
          "output_type": "stream",
          "name": "stdout",
          "text": [
            "[8, 18, 27, -8, 51, 40, -9, -76, 7, 4, 95]\n"
          ]
        }
      ]
    },
    {
      "cell_type": "code",
      "source": [
        "#3. Aggiungere all'inizio della lista i valori: 7,4,95\n",
        "lst.insert(0,95)\n",
        "lst.insert(0,4)\n",
        "lst.insert(0,7)\n",
        "print(lst)"
      ],
      "metadata": {
        "colab": {
          "base_uri": "https://localhost:8080/"
        },
        "id": "bwmO_jDv-m09",
        "outputId": "2427f2b3-a720-425a-c70f-507de89e7ec8"
      },
      "execution_count": null,
      "outputs": [
        {
          "output_type": "stream",
          "name": "stdout",
          "text": [
            "[7, 4, 95, 8, 18, 27, -8, 51, 40, -9, -76, 7, 4, 95]\n"
          ]
        }
      ]
    },
    {
      "cell_type": "code",
      "source": [
        "#4.\n",
        "print(len(lst))"
      ],
      "metadata": {
        "colab": {
          "base_uri": "https://localhost:8080/"
        },
        "id": "zcmZk765_XZY",
        "outputId": "d84e2ae0-fd92-458a-fc11-0c7d5eae3b73"
      },
      "execution_count": null,
      "outputs": [
        {
          "output_type": "stream",
          "name": "stdout",
          "text": [
            "14\n"
          ]
        }
      ]
    },
    {
      "cell_type": "code",
      "source": [
        "#5.\n",
        "lst.insert(3, 100)\n",
        "print(lst)"
      ],
      "metadata": {
        "colab": {
          "base_uri": "https://localhost:8080/"
        },
        "id": "ssCrRzuW_flv",
        "outputId": "9f453dc9-3c3e-402f-de02-17851c284f69"
      },
      "execution_count": null,
      "outputs": [
        {
          "output_type": "stream",
          "name": "stdout",
          "text": [
            "[7, 4, 95, 100, 8, 18, 27, -8, 51, 40, -9, -76, 7, 4, 95]\n"
          ]
        }
      ]
    },
    {
      "cell_type": "code",
      "source": [
        "#6.\n",
        "lst.pop(-3)\n",
        "print(lst)"
      ],
      "metadata": {
        "colab": {
          "base_uri": "https://localhost:8080/"
        },
        "id": "_UsAR_Ez_p-p",
        "outputId": "4aa6c49a-3507-4343-a278-0afb22d14048"
      },
      "execution_count": null,
      "outputs": [
        {
          "output_type": "stream",
          "name": "stdout",
          "text": [
            "[7, 4, 95, 100, 8, 18, 27, -8, 51, 40, -9, -76, 4, 95]\n"
          ]
        }
      ]
    },
    {
      "cell_type": "code",
      "source": [
        "#7.\n",
        "print(max(lst))\n",
        "print(min(lst))"
      ],
      "metadata": {
        "colab": {
          "base_uri": "https://localhost:8080/"
        },
        "id": "WqvEOKIi_48e",
        "outputId": "f8c7b981-a123-4652-fd44-bed4f3248d7f"
      },
      "execution_count": null,
      "outputs": [
        {
          "output_type": "stream",
          "name": "stdout",
          "text": [
            "100\n",
            "-76\n"
          ]
        }
      ]
    },
    {
      "cell_type": "code",
      "source": [
        "#8.\n",
        "print(sum(lst))"
      ],
      "metadata": {
        "colab": {
          "base_uri": "https://localhost:8080/"
        },
        "id": "DUovUUs3AHAm",
        "outputId": "ccfd3ad0-9f07-437e-c983-01a63d2874b8"
      },
      "execution_count": null,
      "outputs": [
        {
          "output_type": "stream",
          "name": "stdout",
          "text": [
            "356\n"
          ]
        }
      ]
    },
    {
      "cell_type": "code",
      "source": [
        "#9.\n",
        "print(round(sum(lst)/len(lst),2))"
      ],
      "metadata": {
        "colab": {
          "base_uri": "https://localhost:8080/"
        },
        "id": "pjrtvNUKAS_r",
        "outputId": "fd2efb1d-be5d-4cf8-ed97-579160673aae"
      },
      "execution_count": null,
      "outputs": [
        {
          "output_type": "stream",
          "name": "stdout",
          "text": [
            "25.43\n"
          ]
        }
      ]
    },
    {
      "cell_type": "code",
      "source": [
        "#10.\n",
        "lst.remove(7)\n",
        "print(lst)"
      ],
      "metadata": {
        "colab": {
          "base_uri": "https://localhost:8080/"
        },
        "id": "UtOnrE0vAleQ",
        "outputId": "d0ae449f-f229-404f-c63e-f2dfeb695bfd"
      },
      "execution_count": null,
      "outputs": [
        {
          "output_type": "stream",
          "name": "stdout",
          "text": [
            "[4, 95, 100, 8, 18, 27, -8, 51, 40, -9, -76, 4, 95]\n"
          ]
        }
      ]
    },
    {
      "cell_type": "code",
      "source": [
        "#11.\n",
        "lst.sort()\n",
        "print(lst)"
      ],
      "metadata": {
        "colab": {
          "base_uri": "https://localhost:8080/"
        },
        "id": "SNsNRVdnAzbt",
        "outputId": "974b8e18-315b-48c6-ca3a-f6344a768ffa"
      },
      "execution_count": null,
      "outputs": [
        {
          "output_type": "stream",
          "name": "stdout",
          "text": [
            "[-76, -9, -8, 4, 4, 8, 18, 27, 40, 51, 95, 95, 100]\n"
          ]
        }
      ]
    },
    {
      "cell_type": "code",
      "source": [
        "#12.\n",
        "lst.remove(max(lst))\n",
        "lst.remove(min(lst))\n",
        "print(lst)"
      ],
      "metadata": {
        "colab": {
          "base_uri": "https://localhost:8080/"
        },
        "id": "zXZMddKzBDQY",
        "outputId": "597e1691-5bbe-4c2d-dd2f-eef0a29eadcc"
      },
      "execution_count": null,
      "outputs": [
        {
          "output_type": "stream",
          "name": "stdout",
          "text": [
            "[-9, -8, 4, 4, 8, 18, 27, 40, 51, 95, 95]\n"
          ]
        }
      ]
    },
    {
      "cell_type": "code",
      "source": [
        "#13.\n",
        "pari = lst[::2]\n",
        "print(pari)"
      ],
      "metadata": {
        "colab": {
          "base_uri": "https://localhost:8080/"
        },
        "id": "6nf08YzkBSlj",
        "outputId": "2e0f5abb-af80-4905-fcf1-4c610c14dbec"
      },
      "execution_count": null,
      "outputs": [
        {
          "output_type": "stream",
          "name": "stdout",
          "text": [
            "[-9, 4, 8, 27, 51, 95]\n"
          ]
        }
      ]
    },
    {
      "cell_type": "code",
      "source": [
        "#14.\n",
        "dispari = lst[1::2]\n",
        "print(dispari)"
      ],
      "metadata": {
        "colab": {
          "base_uri": "https://localhost:8080/"
        },
        "id": "9hjOhrjpCBf0",
        "outputId": "132e7dd0-09eb-49e4-cdd3-d31726e2aab0"
      },
      "execution_count": null,
      "outputs": [
        {
          "output_type": "stream",
          "name": "stdout",
          "text": [
            "[-8, 4, 18, 40, 95]\n"
          ]
        }
      ]
    },
    {
      "cell_type": "code",
      "source": [
        "#15.\n",
        "print(lst[:5])"
      ],
      "metadata": {
        "colab": {
          "base_uri": "https://localhost:8080/"
        },
        "id": "7Ehp7Z6lCnPe",
        "outputId": "3bafebc8-287a-4dc2-ebb9-0bd856335924"
      },
      "execution_count": null,
      "outputs": [
        {
          "output_type": "stream",
          "name": "stdout",
          "text": [
            "[-9, -8, 4, 4, 8]\n"
          ]
        }
      ]
    },
    {
      "cell_type": "code",
      "source": [
        "#16.\n",
        "print(lst[-5:])"
      ],
      "metadata": {
        "colab": {
          "base_uri": "https://localhost:8080/"
        },
        "id": "bbatnK0aC_RE",
        "outputId": "57d4377b-0e18-4453-9c71-caffa54307a8"
      },
      "execution_count": null,
      "outputs": [
        {
          "output_type": "stream",
          "name": "stdout",
          "text": [
            "[27, 40, 51, 95, 95]\n"
          ]
        }
      ]
    },
    {
      "cell_type": "code",
      "source": [
        "#17.\n"
      ],
      "metadata": {
        "id": "3PmgP43sDUy5"
      },
      "execution_count": null,
      "outputs": []
    },
    {
      "cell_type": "code",
      "source": [
        "#18.\n"
      ],
      "metadata": {
        "id": "ynSuwY36DeEp"
      },
      "execution_count": null,
      "outputs": []
    }
  ]
}