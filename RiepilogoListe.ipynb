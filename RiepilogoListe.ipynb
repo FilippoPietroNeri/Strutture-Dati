{
  "nbformat": 4,
  "nbformat_minor": 0,
  "metadata": {
    "colab": {
      "provenance": []
    },
    "kernelspec": {
      "name": "python3",
      "display_name": "Python 3"
    },
    "language_info": {
      "name": "python"
    }
  },
  "cells": [
    {
      "cell_type": "code",
      "execution_count": null,
      "metadata": {
        "id": "WeeazhbgDIyX"
      },
      "outputs": [],
      "source": []
    },
    {
      "cell_type": "markdown",
      "source": [
        "Riepilogo sulle liste.\n",
        "\n",
        "Questo notebook continene informazioni fondamentali per lavorare sulle liste.\n",
        "\n",
        "Una lista è una struttura di dati dinamica, utilizzata per memorizzare dati non permanenti, salvataggio nella ram.\n",
        "\n",
        "Dinamico significa che la dimensione della lista non deve essere fissata a priori.\n",
        "\n",
        "Vengono cancellati quando si chiude il notebook."
      ],
      "metadata": {
        "id": "FWWsR0mkDK5b"
      }
    },
    {
      "cell_type": "markdown",
      "source": [
        "1. Inizializzazione di una lista."
      ],
      "metadata": {
        "id": "2PkGNY7EFAE1"
      }
    },
    {
      "cell_type": "code",
      "source": [
        "lista = [1,2,3,4,5,6,7,8,9]"
      ],
      "metadata": {
        "id": "FqyGqD23GIyC"
      },
      "execution_count": null,
      "outputs": []
    },
    {
      "cell_type": "markdown",
      "source": [
        "2. Inserimento di elementi.\n"
      ],
      "metadata": {
        "id": "iZ1diBRDFC5D"
      }
    },
    {
      "cell_type": "code",
      "source": [
        "lista.append(10)\n",
        "lista.extend([11,12,13])\n",
        "lista.insert(5,20)"
      ],
      "metadata": {
        "id": "10ZcZsvbGOjO"
      },
      "execution_count": null,
      "outputs": []
    },
    {
      "cell_type": "markdown",
      "source": [
        "3. Visualizzazione di una lista\n",
        "\n"
      ],
      "metadata": {
        "id": "_XdR0gneFIma"
      }
    },
    {
      "cell_type": "code",
      "source": [
        "print(lista)"
      ],
      "metadata": {
        "colab": {
          "base_uri": "https://localhost:8080/"
        },
        "id": "lnscSeZ9Gi6C",
        "outputId": "b0f3d42c-9289-4eb9-9cff-f2206c84e30d"
      },
      "execution_count": null,
      "outputs": [
        {
          "output_type": "stream",
          "name": "stdout",
          "text": [
            "[1, 2, 3, 4, 5, 20, 6, 7, 8, 9, 10, 11, 12, 13]\n"
          ]
        }
      ]
    },
    {
      "cell_type": "markdown",
      "source": [
        "4. Rimozione di elementi in una lista"
      ],
      "metadata": {
        "id": "DsVvNFjdFMWQ"
      }
    },
    {
      "cell_type": "code",
      "source": [
        "lista.remove(10) # Rimuove la prima occorrenza (istanza) del numero 10\n",
        "lista.pop(10) # Rimuove l'elemento in posizione 10\n",
        "del lista[10] # Rimuove l'elemento in posizione 10"
      ],
      "metadata": {
        "id": "HUPBHAk6Hnmm"
      },
      "execution_count": null,
      "outputs": []
    },
    {
      "cell_type": "markdown",
      "source": [
        "5. Aggiunta di un elemento nella lista"
      ],
      "metadata": {
        "id": "ly7HgJL4FOyM"
      }
    },
    {
      "cell_type": "code",
      "source": [
        "lista.append(10)\n",
        "lista.extend([11,12,13])\n",
        "lista.insert(5,20)"
      ],
      "metadata": {
        "id": "YBNO5S2EI7v3"
      },
      "execution_count": null,
      "outputs": []
    },
    {
      "cell_type": "markdown",
      "source": [
        "6. Visualizzazione di uno o più elementi in una lista"
      ],
      "metadata": {
        "id": "SgOSxAG8Faii"
      }
    },
    {
      "cell_type": "code",
      "source": [
        "print(lista[4]) # Visualizza il quinto elemento, cioè l'elemento in posizione 4 perchè la lista inizia di 0\n",
        "print(lista[4:8]) # Visualizza gli elementi dalla posizione 4 fino alle posizione 7\n",
        "print(lista[4:8:2]) # Visualizza gli elementi dalla posizione 4 fino alla posizione 7 a due a due\n",
        "print(lista[4:]) # Visualizza gli elementi dalla posizione 4 fino in fondo\n",
        "print(lista[:4])\n",
        "print(lista[::4]) # Prende tutti i numeri a quattro a quattro \n",
        "print(lista[-1]) # Visualizza l'ultimo elemento della lista\n",
        "print(lista.index(10)) # Restituisce l'indice della prima occorrenza di dove si trova l'elemento"
      ],
      "metadata": {
        "id": "zkc2yrdNI8gM"
      },
      "execution_count": null,
      "outputs": []
    },
    {
      "cell_type": "markdown",
      "source": [
        "7. Trovare minimo e massimo di una lista"
      ],
      "metadata": {
        "id": "ElOXy3GRFphN"
      }
    },
    {
      "cell_type": "code",
      "source": [
        "lista.max()\n",
        "lista.min()"
      ],
      "metadata": {
        "id": "5ygVUVyULdZP",
        "outputId": "9c251b06-953f-41e5-c863-93ddd80ad1d2",
        "colab": {
          "base_uri": "https://localhost:8080/",
          "height": 182
        }
      },
      "execution_count": null,
      "outputs": [
        {
          "output_type": "error",
          "ename": "AttributeError",
          "evalue": "ignored",
          "traceback": [
            "\u001b[0;31m---------------------------------------------------------------------------\u001b[0m",
            "\u001b[0;31mAttributeError\u001b[0m                            Traceback (most recent call last)",
            "\u001b[0;32m<ipython-input-3-7e26d1ee91de>\u001b[0m in \u001b[0;36m<module>\u001b[0;34m\u001b[0m\n\u001b[0;32m----> 1\u001b[0;31m \u001b[0mlista\u001b[0m\u001b[0;34m.\u001b[0m\u001b[0mmax\u001b[0m\u001b[0;34m(\u001b[0m\u001b[0;34m)\u001b[0m\u001b[0;34m\u001b[0m\u001b[0;34m\u001b[0m\u001b[0m\n\u001b[0m\u001b[1;32m      2\u001b[0m \u001b[0mlista\u001b[0m\u001b[0;34m.\u001b[0m\u001b[0mmin\u001b[0m\u001b[0;34m(\u001b[0m\u001b[0;34m)\u001b[0m\u001b[0;34m\u001b[0m\u001b[0;34m\u001b[0m\u001b[0m\n",
            "\u001b[0;31mAttributeError\u001b[0m: 'list' object has no attribute 'max'"
          ]
        }
      ]
    },
    {
      "cell_type": "markdown",
      "source": [
        "8. Effettuare operazioni su elementi di una lista"
      ],
      "metadata": {
        "id": "f--dQPE4Fs1a"
      }
    },
    {
      "cell_type": "code",
      "source": [
        "from statistics import mean\n",
        "sum(lista) # Calcola somma degli elementi in una lista\n",
        "mean(lista) # Calcola la media degli elementi in una lista\n",
        "len(lista)"
      ],
      "metadata": {
        "id": "-Pf_oLYCMZSh"
      },
      "execution_count": null,
      "outputs": []
    },
    {
      "cell_type": "markdown",
      "source": [
        "9. Ordinare un elemento sulla lista"
      ],
      "metadata": {
        "id": "TFmscrk8F3Hi"
      }
    },
    {
      "cell_type": "code",
      "source": [
        "lista.sort(reverse = True)\n",
        "print(lista)"
      ],
      "metadata": {
        "colab": {
          "base_uri": "https://localhost:8080/"
        },
        "id": "mKseVI1SNDZa",
        "outputId": "e3152ebc-f2b6-4770-da67-a5d93c301e15"
      },
      "execution_count": null,
      "outputs": [
        {
          "output_type": "stream",
          "name": "stdout",
          "text": [
            "[20, 13, 12, 11, 10, 9, 8, 7, 6, 5, 4, 3, 2, 1]\n"
          ]
        }
      ]
    },
    {
      "cell_type": "markdown",
      "source": [
        "10. Controllo della presenza di un elemento nella lista"
      ],
      "metadata": {
        "id": "e95FXefNOLhT"
      }
    },
    {
      "cell_type": "code",
      "source": [
        "print(9 in lista)"
      ],
      "metadata": {
        "colab": {
          "base_uri": "https://localhost:8080/"
        },
        "id": "fnZtIYAWOPQL",
        "outputId": "84c52542-afd3-4d6a-86f3-ce6c06d558b0"
      },
      "execution_count": null,
      "outputs": [
        {
          "output_type": "stream",
          "name": "stdout",
          "text": [
            "True\n"
          ]
        }
      ]
    }
  ]
}